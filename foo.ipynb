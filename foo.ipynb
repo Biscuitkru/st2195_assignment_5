{
 "cells": [
  {
   "cell_type": "code",
   "execution_count": 44,
   "id": "8dc9a88f",
   "metadata": {},
   "outputs": [],
   "source": [
    "def is_divisible_by_k(x, k):\n",
    "    '''\n",
    "    Checks whether x is divisible by k.\n",
    "    '''\n",
    "    if x % k == 0:\n",
    "        return x \n",
    "    else:\n",
    "        pass"
   ]
  },
  {
   "cell_type": "code",
   "execution_count": 45,
   "id": "2e491afb",
   "metadata": {},
   "outputs": [],
   "source": [
    "'''\n",
    "Store all the integers that are multiples of 2 or 5 or 7 that are lower or equal to 1000\n",
    "(Excluding doubles)\n",
    "'''\n",
    "x = []\n",
    "for i in range(1000):\n",
    "    if (is_divisible_by_k(i,2) or is_divisible_by_k(i, 3) or is_divisible_by_k(i, 7)):\n",
    "        x.append(i)"
   ]
  },
  {
   "cell_type": "code",
   "execution_count": 46,
   "id": "b49390d1",
   "metadata": {},
   "outputs": [
    {
     "data": {
      "text/plain": [
       "356358"
      ]
     },
     "execution_count": 46,
     "metadata": {},
     "output_type": "execute_result"
    }
   ],
   "source": [
    "'''\n",
    "Sum all the integers that are multiples of 2 or 5 or 7 that are lower or equal to 1000(excluding doubles)\n",
    "'''\n",
    "sum(x)"
   ]
  }
 ],
 "metadata": {
  "kernelspec": {
   "display_name": "Python 3",
   "language": "python",
   "name": "python3"
  },
  "language_info": {
   "codemirror_mode": {
    "name": "ipython",
    "version": 3
   },
   "file_extension": ".py",
   "mimetype": "text/x-python",
   "name": "python",
   "nbconvert_exporter": "python",
   "pygments_lexer": "ipython3",
   "version": "3.8.8"
  }
 },
 "nbformat": 4,
 "nbformat_minor": 5
}
